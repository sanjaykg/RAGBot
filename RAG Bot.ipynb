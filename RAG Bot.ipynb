{
 "cells": [
  {
   "cell_type": "markdown",
   "id": "a77e4616-c43b-42d4-88bf-40eeaab5e6cf",
   "metadata": {},
   "source": [
    "# Build Your Own RAG Bot using VectorDB, LLM, Open AI and Langchain"
   ]
  },
  {
   "cell_type": "code",
   "execution_count": 30,
   "id": "212c2ecc",
   "metadata": {},
   "outputs": [],
   "source": [
    "from langchain_community.vectorstores import Chroma\n",
    "from langchain_openai import OpenAIEmbeddings\n",
    "from langchain.document_loaders import CSVLoader"
   ]
  },
  {
   "cell_type": "code",
   "execution_count": 31,
   "id": "e1b145c0",
   "metadata": {},
   "outputs": [],
   "source": [
    "import os\n",
    "import openai\n",
    "import panel as pn  # GUI\n",
    "import pandas as pd\n",
    "from dotenv import load_dotenv, find_dotenv\n",
    "\n",
    "_ = load_dotenv(find_dotenv()) # read local .env file\n",
    "\n",
    "openai.api_key  = os.getenv('OPENAI_API_KEY')"
   ]
  },
  {
   "cell_type": "code",
   "execution_count": 33,
   "id": "30697566-ee92-47f1-a8eb-c17848e9a03b",
   "metadata": {},
   "outputs": [],
   "source": [
    "# Warning control\n",
    "import warnings\n",
    "warnings.filterwarnings('ignore')"
   ]
  },
  {
   "cell_type": "markdown",
   "id": "b5533a29-62fe-432b-bfa0-499d4029fdbf",
   "metadata": {},
   "source": [
    "## Set the Embeddings and Load the data ( I am using CSV, but any file format or comnination of file format can be used e.g. PDF, Image etc. You need to use the corresponding library for the same)"
   ]
  },
  {
   "cell_type": "code",
   "execution_count": 34,
   "id": "43ce7dc4-a23f-4024-b647-1eae469efc77",
   "metadata": {},
   "outputs": [],
   "source": [
    "embeddings = OpenAIEmbeddings()"
   ]
  },
  {
   "cell_type": "code",
   "execution_count": 35,
   "id": "292759a6",
   "metadata": {},
   "outputs": [],
   "source": [
    "file = 'ClothingCatalog.csv'\n",
    "loader = CSVLoader(file_path=file, encoding='utf-8')\n",
    "documents = loader.load()"
   ]
  },
  {
   "cell_type": "markdown",
   "id": "197e021c",
   "metadata": {},
   "source": [
    "## Load the Documents into the Vector DB"
   ]
  },
  {
   "cell_type": "code",
   "execution_count": 36,
   "id": "87789cc3",
   "metadata": {},
   "outputs": [],
   "source": [
    "vectorstore = Chroma.from_documents(documents, embeddings)"
   ]
  },
  {
   "cell_type": "code",
   "execution_count": 37,
   "id": "a775b466-16af-4bf1-94d5-c96563ce50d0",
   "metadata": {},
   "outputs": [],
   "source": [
    "retriever = vectorstore.as_retriever(\n",
    "    search_type=\"similarity\",\n",
    "    search_kwargs={\"k\": 6}\n",
    ")"
   ]
  },
  {
   "cell_type": "markdown",
   "id": "39f8bb98",
   "metadata": {},
   "source": [
    "## Import required librarariy from LangChain"
   ]
  },
  {
   "cell_type": "code",
   "execution_count": 38,
   "id": "6b3a5fa6-7169-4f1f-aabd-15eec4da8f53",
   "metadata": {},
   "outputs": [],
   "source": [
    "from langchain.prompts.prompt import PromptTemplate\n",
    "from langchain_openai import OpenAI\n",
    "from langchain.chains import ConversationalRetrievalChain, LLMChain\n",
    "from langchain.chains.qa_with_sources import load_qa_with_sources_chain"
   ]
  },
  {
   "cell_type": "markdown",
   "id": "721305d7",
   "metadata": {},
   "source": [
    "## Define the prompt"
   ]
  },
  {
   "cell_type": "code",
   "execution_count": 39,
   "id": "fb3321aa",
   "metadata": {},
   "outputs": [],
   "source": [
    "template = \"\"\"You are an AI assistant for answering questions about the shirts with sun protection.\n",
    "You are given the following extracted parts of a long document and a question. Provide a conversational answer.\n",
    "If you don't know the answer, just say \"Hmm, I'm not sure.\" Don't try to make up an answer.\n",
    "If the question is not about shirts, politely inform them that you are tuned to only answer questions about shirts.\n",
    "Question: {question}\n",
    "=========\n",
    "{context}\n",
    "=========\n",
    "Answer in Markdown:\"\"\"\n",
    "prompt = PromptTemplate(template=template, input_variables=[\"question\", \"context\"])"
   ]
  },
  {
   "cell_type": "markdown",
   "id": "84765c34",
   "metadata": {},
   "source": [
    "## Set LLM and Doc Chain"
   ]
  },
  {
   "cell_type": "code",
   "execution_count": 40,
   "id": "42096f06-ae93-4d5d-acb6-02b760745b9e",
   "metadata": {},
   "outputs": [],
   "source": [
    "llm = OpenAI(temperature=0)\n",
    "\n",
    "doc_chain = load_qa_with_sources_chain(llm, chain_type=\"map_reduce\")\n",
    "question_generator_chain = LLMChain(llm=llm, prompt=prompt)\n",
    "qa_chain = ConversationalRetrievalChain(\n",
    "    retriever=retriever,\n",
    "    question_generator=question_generator_chain,\n",
    "    combine_docs_chain=doc_chain,\n",
    ")"
   ]
  },
  {
   "cell_type": "markdown",
   "id": "ea3e7dd0",
   "metadata": {},
   "source": [
    "## You can provide a chat history as well, which will make the bot context sensitive"
   ]
  },
  {
   "cell_type": "code",
   "execution_count": 41,
   "id": "d9329374-1a3f-44aa-8cd0-14a6d8bcae7e",
   "metadata": {},
   "outputs": [],
   "source": [
    "response = qa_chain.invoke({\n",
    "    \"question\": \"Please list all your shirts with sun protection in a table in markdown and summarize each one?\",\n",
    "    \"chat_history\": []\n",
    "})"
   ]
  },
  {
   "cell_type": "code",
   "execution_count": 42,
   "id": "d3f30e94",
   "metadata": {},
   "outputs": [
    {
     "data": {
      "text/plain": [
       "\" | Shirt Name | Summary | \\n| --- | --- | \\n| Men's Tropical Plaid Short-Sleeve Shirt | Rated UPF 50+, traditional fit, 100% polyester, wrinkle-resistant, front and back cape venting, two front bellows pockets, imported | \\n| Men's Plaid Tropic Shirt, Short-Sleeve | Rated UPF 50+, Ultracomfortable, originally designed for fishing, 52% polyester and 48% nylon, machine washable and dryable, front and back cape venting, two front bellows pockets, imported | \\nSOURCES: OutdoorClothingCatalog_1000.csv\""
      ]
     },
     "execution_count": 42,
     "metadata": {},
     "output_type": "execute_result"
    }
   ],
   "source": [
    "response['answer']"
   ]
  },
  {
   "cell_type": "code",
   "execution_count": 43,
   "id": "5db4da1e",
   "metadata": {},
   "outputs": [],
   "source": [
    "from IPython.display import display, Markdown"
   ]
  },
  {
   "cell_type": "code",
   "execution_count": 44,
   "id": "f344348f",
   "metadata": {},
   "outputs": [
    {
     "data": {
      "text/markdown": [
       " | Shirt Name | Summary | \n",
       "| --- | --- | \n",
       "| Men's Tropical Plaid Short-Sleeve Shirt | Rated UPF 50+, traditional fit, 100% polyester, wrinkle-resistant, front and back cape venting, two front bellows pockets, imported | \n",
       "| Men's Plaid Tropic Shirt, Short-Sleeve | Rated UPF 50+, Ultracomfortable, originally designed for fishing, 52% polyester and 48% nylon, machine washable and dryable, front and back cape venting, two front bellows pockets, imported | \n",
       "SOURCES: OutdoorClothingCatalog_1000.csv"
      ],
      "text/plain": [
       "<IPython.core.display.Markdown object>"
      ]
     },
     "metadata": {},
     "output_type": "display_data"
    }
   ],
   "source": [
    "display(Markdown(response['answer']))"
   ]
  }
 ],
 "metadata": {
  "kernelspec": {
   "display_name": "Python 3 (ipykernel)",
   "language": "python",
   "name": "python3"
  },
  "language_info": {
   "codemirror_mode": {
    "name": "ipython",
    "version": 3
   },
   "file_extension": ".py",
   "mimetype": "text/x-python",
   "name": "python",
   "nbconvert_exporter": "python",
   "pygments_lexer": "ipython3",
   "version": "3.11.7"
  }
 },
 "nbformat": 4,
 "nbformat_minor": 5
}
